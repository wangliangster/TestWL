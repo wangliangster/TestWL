{
 "cells": [
  {
   "cell_type": "markdown",
   "metadata": {},
   "source": [
    "# Python Codec Summary 字符编码总结\n",
    "字符串编码一直是令人非常头疼的问题，尤其是我们在处理一些不规范的第三方网页的时候。虽然Python提供了Unicode表示的str和bytes两种数据类型，并且可以通过encode()和decode()方法转换，但是，在不知道编码的情况下，对bytes做decode()不好做。\n",
    "\n",
    "对于未知编码的bytes，要把它转换成str，需要先“猜测”编码。猜测的方式是先收集各种编码的特征字符，根据特征字符判断，就能有很大概率“猜对”。\n",
    "\n",
    "当然，我们肯定不能从头自己写这个检测编码的功能，这样做费时费力。chardet这个第三方库正好就派上了用场。用它来检测编码，简单易用。\n",
    "\n"
   ]
  },
  {
   "cell_type": "markdown",
   "metadata": {},
   "source": [
    "## chardet\n",
    "- 安装: pip install chardet\n",
    "- 它能以一定的概率判断出字符的编码方式，可能是Bayers也可能是NN算法，相信未来一定会越来越准"
   ]
  },
  {
   "cell_type": "code",
   "execution_count": 1,
   "metadata": {},
   "outputs": [],
   "source": [
    "import chardet"
   ]
  },
  {
   "cell_type": "code",
   "execution_count": 2,
   "metadata": {},
   "outputs": [],
   "source": [
    "s1 = b'Hello, world'"
   ]
  },
  {
   "cell_type": "code",
   "execution_count": 3,
   "metadata": {},
   "outputs": [
    {
     "data": {
      "text/plain": [
       "bytes"
      ]
     },
     "execution_count": 3,
     "metadata": {},
     "output_type": "execute_result"
    }
   ],
   "source": [
    "type(s1)"
   ]
  },
  {
   "cell_type": "code",
   "execution_count": 4,
   "metadata": {},
   "outputs": [
    {
     "data": {
      "text/plain": [
       "{'encoding': 'ascii', 'confidence': 1.0, 'language': ''}"
      ]
     },
     "execution_count": 4,
     "metadata": {},
     "output_type": "execute_result"
    }
   ],
   "source": [
    "chardet.detect(s1)"
   ]
  },
  {
   "cell_type": "code",
   "execution_count": 5,
   "metadata": {},
   "outputs": [
    {
     "data": {
      "text/plain": [
       "'ascii'"
      ]
     },
     "execution_count": 5,
     "metadata": {},
     "output_type": "execute_result"
    }
   ],
   "source": [
    "chardet.detect(s1)['encoding']"
   ]
  },
  {
   "cell_type": "code",
   "execution_count": 6,
   "metadata": {},
   "outputs": [],
   "source": [
    "data = '今天北京天气真不错'"
   ]
  },
  {
   "cell_type": "code",
   "execution_count": 7,
   "metadata": {},
   "outputs": [
    {
     "data": {
      "text/plain": [
       "str"
      ]
     },
     "execution_count": 7,
     "metadata": {},
     "output_type": "execute_result"
    }
   ],
   "source": [
    "type(data)"
   ]
  },
  {
   "cell_type": "code",
   "execution_count": 8,
   "metadata": {},
   "outputs": [],
   "source": [
    "data = data.encode('gbk')"
   ]
  },
  {
   "cell_type": "code",
   "execution_count": 9,
   "metadata": {},
   "outputs": [
    {
     "data": {
      "text/plain": [
       "bytes"
      ]
     },
     "execution_count": 9,
     "metadata": {},
     "output_type": "execute_result"
    }
   ],
   "source": [
    "type(data)"
   ]
  },
  {
   "cell_type": "code",
   "execution_count": 10,
   "metadata": {},
   "outputs": [
    {
     "data": {
      "text/plain": [
       "b'\\xbd\\xf1\\xcc\\xec\\xb1\\xb1\\xbe\\xa9\\xcc\\xec\\xc6\\xf8\\xd5\\xe6\\xb2\\xbb\\xb4\\xed'"
      ]
     },
     "execution_count": 10,
     "metadata": {},
     "output_type": "execute_result"
    }
   ],
   "source": [
    "data"
   ]
  },
  {
   "cell_type": "code",
   "execution_count": 11,
   "metadata": {},
   "outputs": [
    {
     "data": {
      "text/plain": [
       "{'encoding': 'GB2312', 'confidence': 0.99, 'language': 'Chinese'}"
      ]
     },
     "execution_count": 11,
     "metadata": {},
     "output_type": "execute_result"
    }
   ],
   "source": [
    "chardet.detect(data)"
   ]
  },
  {
   "cell_type": "code",
   "execution_count": 12,
   "metadata": {},
   "outputs": [
    {
     "data": {
      "text/plain": [
       "'GB2312'"
      ]
     },
     "execution_count": 12,
     "metadata": {},
     "output_type": "execute_result"
    }
   ],
   "source": [
    "codec = chardet.detect(data)['encoding']\n",
    "codec"
   ]
  },
  {
   "cell_type": "code",
   "execution_count": 13,
   "metadata": {},
   "outputs": [
    {
     "data": {
      "text/plain": [
       "'今天北京天气真不错'"
      ]
     },
     "execution_count": 13,
     "metadata": {},
     "output_type": "execute_result"
    }
   ],
   "source": [
    "data.decode(codec)"
   ]
  },
  {
   "cell_type": "markdown",
   "metadata": {},
   "source": [
    "# Python 获取当前环境的编码"
   ]
  },
  {
   "cell_type": "code",
   "execution_count": 14,
   "metadata": {},
   "outputs": [],
   "source": [
    "import sys\n",
    "import locale"
   ]
  },
  {
   "cell_type": "code",
   "execution_count": 15,
   "metadata": {},
   "outputs": [],
   "source": [
    "def p(f):\n",
    "    print('{0}.{1}(): \\033[1;31;48m{2}'.format(f.__module__,f.__name__,f()))"
   ]
  },
  {
   "cell_type": "markdown",
   "metadata": {},
   "source": [
    "### 返回当前系统所使用的默认字符编码"
   ]
  },
  {
   "cell_type": "code",
   "execution_count": 16,
   "metadata": {},
   "outputs": [
    {
     "name": "stdout",
     "output_type": "stream",
     "text": [
      "sys.getdefaultencoding(): \u001b[1;31;48mutf-8\n"
     ]
    }
   ],
   "source": [
    "p(sys.getdefaultencoding)"
   ]
  },
  {
   "cell_type": "markdown",
   "metadata": {},
   "source": [
    "### 返回用于转换Unicode文件名至系统文件名所使用的编码"
   ]
  },
  {
   "cell_type": "code",
   "execution_count": 17,
   "metadata": {},
   "outputs": [
    {
     "name": "stdout",
     "output_type": "stream",
     "text": [
      "sys.getfilesystemencoding(): \u001b[1;31;48mutf-8\n"
     ]
    }
   ],
   "source": [
    "p(sys.getfilesystemencoding)"
   ]
  },
  {
   "cell_type": "markdown",
   "metadata": {},
   "source": [
    "### 获取默认的区域设置并返回元组(语言，编码)"
   ]
  },
  {
   "cell_type": "code",
   "execution_count": 18,
   "metadata": {},
   "outputs": [
    {
     "name": "stdout",
     "output_type": "stream",
     "text": [
      "locale.getdefaultlocale(): \u001b[1;31;48m('en_US', 'UTF-8')\n"
     ]
    }
   ],
   "source": [
    "p(locale.getdefaultlocale)"
   ]
  },
  {
   "cell_type": "markdown",
   "metadata": {},
   "source": [
    "### 返回用户设定的文本数据编码格式 \n",
    "(this function only return a guess)"
   ]
  },
  {
   "cell_type": "code",
   "execution_count": 19,
   "metadata": {},
   "outputs": [
    {
     "name": "stdout",
     "output_type": "stream",
     "text": [
      "locale.getpreferredencoding(): \u001b[1;31;48mUTF-8\n"
     ]
    }
   ],
   "source": [
    "p(locale.getpreferredencoding)"
   ]
  },
  {
   "cell_type": "markdown",
   "metadata": {},
   "source": [
    "## bytes(), ord(),chr(),bin(),int(),hex(),oct(),ascii()函数 "
   ]
  },
  {
   "cell_type": "code",
   "execution_count": 20,
   "metadata": {},
   "outputs": [
    {
     "data": {
      "text/plain": [
       "b'\\xbd\\xf1\\xcc\\xec\\xb1\\xb1\\xbe\\xa9\\xcc\\xec\\xc6\\xf8\\xd5\\xe6\\xb2\\xbb\\xb4\\xed'"
      ]
     },
     "execution_count": 20,
     "metadata": {},
     "output_type": "execute_result"
    }
   ],
   "source": [
    "bytes(data)"
   ]
  },
  {
   "cell_type": "code",
   "execution_count": 21,
   "metadata": {},
   "outputs": [
    {
     "data": {
      "text/plain": [
       "b'\\xbd\\xf1\\xcc\\xec\\xb1\\xb1\\xbe\\xa9\\xcc\\xec\\xc6\\xf8\\xd5\\xe6\\xb2\\xbb\\xb4\\xed'"
      ]
     },
     "execution_count": 21,
     "metadata": {},
     "output_type": "execute_result"
    }
   ],
   "source": [
    "data"
   ]
  },
  {
   "cell_type": "code",
   "execution_count": 22,
   "metadata": {},
   "outputs": [],
   "source": [
    "data2 = data"
   ]
  },
  {
   "cell_type": "code",
   "execution_count": 23,
   "metadata": {},
   "outputs": [],
   "source": [
    "data2 = data2.decode('gbk').encode('utf-8')"
   ]
  },
  {
   "cell_type": "code",
   "execution_count": 24,
   "metadata": {},
   "outputs": [
    {
     "data": {
      "text/plain": [
       "b'\\xe4\\xbb\\x8a\\xe5\\xa4\\xa9\\xe5\\x8c\\x97\\xe4\\xba\\xac\\xe5\\xa4\\xa9\\xe6\\xb0\\x94\\xe7\\x9c\\x9f\\xe4\\xb8\\x8d\\xe9\\x94\\x99'"
      ]
     },
     "execution_count": 24,
     "metadata": {},
     "output_type": "execute_result"
    }
   ],
   "source": [
    "data2"
   ]
  },
  {
   "cell_type": "code",
   "execution_count": 25,
   "metadata": {},
   "outputs": [
    {
     "data": {
      "text/plain": [
       "'今天北京天气真不错'"
      ]
     },
     "execution_count": 25,
     "metadata": {},
     "output_type": "execute_result"
    }
   ],
   "source": [
    "data2.decode('utf-8')"
   ]
  },
  {
   "cell_type": "code",
   "execution_count": 26,
   "metadata": {},
   "outputs": [
    {
     "name": "stdout",
     "output_type": "stream",
     "text": [
      "Help on built-in function chr in module builtins:\n",
      "\n",
      "chr(i, /)\n",
      "    Return a Unicode string of one character with ordinal i; 0 <= i <= 0x10ffff.\n",
      "\n"
     ]
    }
   ],
   "source": [
    "help(chr)"
   ]
  },
  {
   "cell_type": "code",
   "execution_count": 27,
   "metadata": {},
   "outputs": [
    {
     "data": {
      "text/plain": [
       "'s'"
      ]
     },
     "execution_count": 27,
     "metadata": {},
     "output_type": "execute_result"
    }
   ],
   "source": [
    "chr(115)"
   ]
  },
  {
   "cell_type": "code",
   "execution_count": 28,
   "metadata": {},
   "outputs": [
    {
     "data": {
      "text/plain": [
       "115"
      ]
     },
     "execution_count": 28,
     "metadata": {},
     "output_type": "execute_result"
    }
   ],
   "source": [
    "ord('s')"
   ]
  },
  {
   "cell_type": "code",
   "execution_count": 29,
   "metadata": {},
   "outputs": [
    {
     "name": "stdout",
     "output_type": "stream",
     "text": [
      "Help on built-in function ord in module builtins:\n",
      "\n",
      "ord(c, /)\n",
      "    Return the Unicode code point for a one-character string.\n",
      "\n"
     ]
    }
   ],
   "source": [
    "help(ord)"
   ]
  },
  {
   "cell_type": "code",
   "execution_count": 30,
   "metadata": {},
   "outputs": [
    {
     "data": {
      "text/plain": [
       "'115'"
      ]
     },
     "execution_count": 30,
     "metadata": {},
     "output_type": "execute_result"
    }
   ],
   "source": [
    "ascii(0x73)"
   ]
  },
  {
   "cell_type": "code",
   "execution_count": 31,
   "metadata": {},
   "outputs": [
    {
     "data": {
      "text/plain": [
       "\"'wangliang,\\\\u963f\\\\u50bb'\""
      ]
     },
     "execution_count": 31,
     "metadata": {},
     "output_type": "execute_result"
    }
   ],
   "source": [
    "ascii('wangliang,阿傻')"
   ]
  },
  {
   "cell_type": "code",
   "execution_count": 32,
   "metadata": {},
   "outputs": [
    {
     "data": {
      "text/plain": [
       "38463"
      ]
     },
     "execution_count": 32,
     "metadata": {},
     "output_type": "execute_result"
    }
   ],
   "source": [
    "int(0x963f)"
   ]
  },
  {
   "cell_type": "code",
   "execution_count": 33,
   "metadata": {},
   "outputs": [
    {
     "data": {
      "text/plain": [
       "'阿'"
      ]
     },
     "execution_count": 33,
     "metadata": {},
     "output_type": "execute_result"
    }
   ],
   "source": [
    "chr(38463)"
   ]
  },
  {
   "cell_type": "code",
   "execution_count": 34,
   "metadata": {},
   "outputs": [
    {
     "data": {
      "text/plain": [
       "'s'"
      ]
     },
     "execution_count": 34,
     "metadata": {},
     "output_type": "execute_result"
    }
   ],
   "source": [
    "str('s')"
   ]
  },
  {
   "cell_type": "code",
   "execution_count": 35,
   "metadata": {},
   "outputs": [
    {
     "data": {
      "text/plain": [
       "'0x73'"
      ]
     },
     "execution_count": 35,
     "metadata": {},
     "output_type": "execute_result"
    }
   ],
   "source": [
    "hex(115)"
   ]
  },
  {
   "cell_type": "code",
   "execution_count": 36,
   "metadata": {},
   "outputs": [
    {
     "data": {
      "text/plain": [
       "115"
      ]
     },
     "execution_count": 36,
     "metadata": {},
     "output_type": "execute_result"
    }
   ],
   "source": [
    "int(0x73)"
   ]
  },
  {
   "cell_type": "code",
   "execution_count": 37,
   "metadata": {},
   "outputs": [
    {
     "data": {
      "text/plain": [
       "'0o163'"
      ]
     },
     "execution_count": 37,
     "metadata": {},
     "output_type": "execute_result"
    }
   ],
   "source": [
    "oct(115)"
   ]
  },
  {
   "cell_type": "code",
   "execution_count": 38,
   "metadata": {},
   "outputs": [
    {
     "data": {
      "text/plain": [
       "115"
      ]
     },
     "execution_count": 38,
     "metadata": {},
     "output_type": "execute_result"
    }
   ],
   "source": [
    "int(0o163)"
   ]
  },
  {
   "cell_type": "code",
   "execution_count": 39,
   "metadata": {},
   "outputs": [
    {
     "data": {
      "text/plain": [
       "'0b1110011'"
      ]
     },
     "execution_count": 39,
     "metadata": {},
     "output_type": "execute_result"
    }
   ],
   "source": [
    "bin(115)"
   ]
  },
  {
   "cell_type": "code",
   "execution_count": 40,
   "metadata": {},
   "outputs": [
    {
     "data": {
      "text/plain": [
       "'0b1110011'"
      ]
     },
     "execution_count": 40,
     "metadata": {},
     "output_type": "execute_result"
    }
   ],
   "source": [
    "bin(0x73)"
   ]
  },
  {
   "cell_type": "code",
   "execution_count": 41,
   "metadata": {},
   "outputs": [
    {
     "data": {
      "text/plain": [
       "'0b1110011'"
      ]
     },
     "execution_count": 41,
     "metadata": {},
     "output_type": "execute_result"
    }
   ],
   "source": [
    "bin(0o163)"
   ]
  },
  {
   "cell_type": "code",
   "execution_count": 42,
   "metadata": {},
   "outputs": [
    {
     "data": {
      "text/plain": [
       "115"
      ]
     },
     "execution_count": 42,
     "metadata": {},
     "output_type": "execute_result"
    }
   ],
   "source": [
    "int(0b1110011)"
   ]
  },
  {
   "cell_type": "code",
   "execution_count": 43,
   "metadata": {},
   "outputs": [
    {
     "name": "stdout",
     "output_type": "stream",
     "text": [
      "Help on built-in function ascii in module builtins:\n",
      "\n",
      "ascii(obj, /)\n",
      "    Return an ASCII-only representation of an object.\n",
      "    \n",
      "    As repr(), return a string containing a printable representation of an\n",
      "    object, but escape the non-ASCII characters in the string returned by\n",
      "    repr() using \\\\x, \\\\u or \\\\U escapes. This generates a string similar\n",
      "    to that returned by repr() in Python 2.\n",
      "\n"
     ]
    }
   ],
   "source": [
    "help(ascii)"
   ]
  },
  {
   "cell_type": "markdown",
   "metadata": {},
   "source": [
    "## 同一份byte，解码方式不同，得到的表示就不同，用错了解码方式就产生乱码"
   ]
  },
  {
   "cell_type": "code",
   "execution_count": 44,
   "metadata": {},
   "outputs": [],
   "source": [
    "letters = \"αβγδ\""
   ]
  },
  {
   "cell_type": "code",
   "execution_count": 45,
   "metadata": {},
   "outputs": [],
   "source": [
    "raw = letters.encode('utf-8')"
   ]
  },
  {
   "cell_type": "code",
   "execution_count": 46,
   "metadata": {},
   "outputs": [
    {
     "data": {
      "text/plain": [
       "b'\\xce\\xb1\\xce\\xb2\\xce\\xb3\\xce\\xb4'"
      ]
     },
     "execution_count": 46,
     "metadata": {},
     "output_type": "execute_result"
    }
   ],
   "source": [
    "raw"
   ]
  },
  {
   "cell_type": "code",
   "execution_count": 47,
   "metadata": {},
   "outputs": [
    {
     "data": {
      "text/plain": [
       "'αβγδ'"
      ]
     },
     "execution_count": 47,
     "metadata": {},
     "output_type": "execute_result"
    }
   ],
   "source": [
    "raw.decode('utf-8')"
   ]
  },
  {
   "cell_type": "code",
   "execution_count": 48,
   "metadata": {},
   "outputs": [
    {
     "data": {
      "text/plain": [
       "'뇎닎돎듎'"
      ]
     },
     "execution_count": 48,
     "metadata": {},
     "output_type": "execute_result"
    }
   ],
   "source": [
    "raw.decode('utf-16')"
   ]
  },
  {
   "cell_type": "code",
   "execution_count": 49,
   "metadata": {},
   "outputs": [
    {
     "data": {
      "text/plain": [
       "'αβγδ'"
      ]
     },
     "execution_count": 49,
     "metadata": {},
     "output_type": "execute_result"
    }
   ],
   "source": [
    "tmp =b'\\xce\\xb1\\xce\\xb2\\xce\\xb3\\xce\\xb4'\n",
    "tmp.decode('utf-8')"
   ]
  },
  {
   "cell_type": "markdown",
   "metadata": {},
   "source": [
    "### 中英混合，非ASCII的字符就会被转换"
   ]
  },
  {
   "cell_type": "code",
   "execution_count": 50,
   "metadata": {},
   "outputs": [],
   "source": [
    "tmp = 'Hello,Liang,你好'"
   ]
  },
  {
   "cell_type": "code",
   "execution_count": 51,
   "metadata": {},
   "outputs": [
    {
     "data": {
      "text/plain": [
       "\"'Hello,Liang,\\\\u4f60\\\\u597d'\""
      ]
     },
     "execution_count": 51,
     "metadata": {},
     "output_type": "execute_result"
    }
   ],
   "source": [
    "ascii(tmp)"
   ]
  },
  {
   "cell_type": "code",
   "execution_count": 52,
   "metadata": {},
   "outputs": [],
   "source": [
    "tmp = tmp.encode('utf-8')"
   ]
  },
  {
   "cell_type": "code",
   "execution_count": 53,
   "metadata": {},
   "outputs": [
    {
     "data": {
      "text/plain": [
       "{'encoding': 'utf-8', 'confidence': 0.7525, 'language': ''}"
      ]
     },
     "execution_count": 53,
     "metadata": {},
     "output_type": "execute_result"
    }
   ],
   "source": [
    "chardet.detect(tmp)"
   ]
  },
  {
   "cell_type": "code",
   "execution_count": 54,
   "metadata": {},
   "outputs": [
    {
     "data": {
      "text/plain": [
       "'Hello,Liang,你好'"
      ]
     },
     "execution_count": 54,
     "metadata": {},
     "output_type": "execute_result"
    }
   ],
   "source": [
    "tmp.decode('utf-8')"
   ]
  },
  {
   "cell_type": "code",
   "execution_count": 55,
   "metadata": {},
   "outputs": [
    {
     "data": {
      "text/plain": [
       "b'Hello,Liang,\\xe4\\xbd\\xa0\\xe5\\xa5\\xbd'"
      ]
     },
     "execution_count": 55,
     "metadata": {},
     "output_type": "execute_result"
    }
   ],
   "source": [
    "tmp"
   ]
  },
  {
   "cell_type": "markdown",
   "metadata": {},
   "source": [
    "# Python读写文件\n",
    "- 参考：https://realpython.com/read-write-files-python/"
   ]
  },
  {
   "cell_type": "code",
   "execution_count": 56,
   "metadata": {},
   "outputs": [
    {
     "data": {
      "text/plain": [
       "'/Users/liang/Downloads/考题'"
      ]
     },
     "execution_count": 56,
     "metadata": {},
     "output_type": "execute_result"
    }
   ],
   "source": [
    "import os\n",
    "os.getcwd()"
   ]
  },
  {
   "cell_type": "code",
   "execution_count": 57,
   "metadata": {},
   "outputs": [
    {
     "data": {
      "text/plain": [
       "'/Users/liang/Downloads/考题/test/1.txt'"
      ]
     },
     "execution_count": 57,
     "metadata": {},
     "output_type": "execute_result"
    }
   ],
   "source": [
    "filepath = os.getcwd()+'/test/'+'1.txt'\n",
    "filepath"
   ]
  },
  {
   "cell_type": "code",
   "execution_count": 58,
   "metadata": {},
   "outputs": [
    {
     "name": "stdout",
     "output_type": "stream",
     "text": [
      "变压器（Transformer）是利用电磁感应的原理来改变交流电压的装置，主要构件是初级线圈、次级线圈和铁芯（磁芯）。主要功能有：电压变换、电流变换、阻抗变换、隔离、稳压（磁饱和变压器）等。\n"
     ]
    }
   ],
   "source": [
    "codec =''\n",
    "with open(filepath,'rb') as reader:\n",
    "    codec = chardet.detect(reader.readline())['encoding']\n",
    "\n",
    "with open(filepath, 'rb') as reader:\n",
    "    print(reader.readline().decode(codec))"
   ]
  },
  {
   "cell_type": "code",
   "execution_count": 59,
   "metadata": {},
   "outputs": [],
   "source": [
    "file4 = os.getcwd()+'/test/'+'4.txt'"
   ]
  },
  {
   "cell_type": "code",
   "execution_count": 60,
   "metadata": {},
   "outputs": [
    {
     "name": "stdout",
     "output_type": "stream",
     "text": [
      "utf-8\n"
     ]
    }
   ],
   "source": [
    "codec = ''\n",
    "with open(file4, 'rb') as reader:\n",
    "    codec = chardet.detect(reader.readline())['encoding']\n",
    "print(codec)"
   ]
  },
  {
   "cell_type": "markdown",
   "metadata": {},
   "source": [
    "#### read() 一次性全部读完"
   ]
  },
  {
   "cell_type": "code",
   "execution_count": 61,
   "metadata": {},
   "outputs": [
    {
     "name": "stdout",
     "output_type": "stream",
     "text": [
      "工作原理\n",
      "变压器由铁芯（或磁芯）和线圈组成，线圈有两个或两个以上的绕组，其中接电源的绕组叫初级线圈，其余的绕组叫次级线圈。它可以变换交流电压、电流和阻抗。最简单的铁心变压器由一个软磁材料做成的铁心及套在铁心上的两个匝数不等的线圈构成，如图所示。\n",
      "变压器原理\n",
      "变压器原理\n",
      "铁心的作用是加强两个线圈间的磁耦合。为了减少铁内涡流和磁滞损耗，铁心由涂漆的硅钢片叠压而成;两个线圈之间没有电的联系，线圈由绝缘铜线（或铝线）绕成。一个线圈接交流电源称为初级线圈（或原线圈），另一个线圈接用电器称为次级线圈（或副线圈）。实际的变压器是很复杂的，不可避免地存在铜损（线圈电阻发热）、铁损（铁心发热）和漏磁（经空气闭合的磁感应线）等，为了简化讨论这里只介绍理想变压器。理想变压器成立的条件是：忽略漏磁通，忽略原、副线圈的电阻，忽略铁心的损耗，忽略空载电流（副线圈开路原线圈线圈中的电流）。例如电力变压器在满载运行时（副线圈输出额定功率）即接近理想变压器情况。\n"
     ]
    }
   ],
   "source": [
    "with open(file4, 'rb') as reader:\n",
    "    print(reader.read().decode(codec))"
   ]
  },
  {
   "cell_type": "markdown",
   "metadata": {},
   "source": [
    "- 19 传入的是字节数bytes， 若恰好合适，decode不会报错，截断打出"
   ]
  },
  {
   "cell_type": "code",
   "execution_count": 62,
   "metadata": {},
   "outputs": [
    {
     "name": "stdout",
     "output_type": "stream",
     "text": [
      "工作原理\n",
      "变压\n"
     ]
    }
   ],
   "source": [
    "with open(file4, 'rb') as reader:\n",
    "    print(reader.read(19).decode(codec))"
   ]
  },
  {
   "cell_type": "markdown",
   "metadata": {},
   "source": [
    "#### readline() 读一行"
   ]
  },
  {
   "cell_type": "code",
   "execution_count": 63,
   "metadata": {},
   "outputs": [
    {
     "name": "stdout",
     "output_type": "stream",
     "text": [
      "工作原理\n",
      "\n"
     ]
    }
   ],
   "source": [
    "with open(file4, 'rb') as reader:\n",
    "    print(reader.readline().decode(codec))"
   ]
  },
  {
   "cell_type": "markdown",
   "metadata": {},
   "source": [
    "- 读出一行中的3个bytes(3个bytes 表出一个汉字 utf-8)"
   ]
  },
  {
   "cell_type": "code",
   "execution_count": 64,
   "metadata": {},
   "outputs": [
    {
     "name": "stdout",
     "output_type": "stream",
     "text": [
      "工\n"
     ]
    }
   ],
   "source": [
    "with open(file4, 'rb') as reader:\n",
    "    print(reader.readline(3).decode(codec))"
   ]
  },
  {
   "cell_type": "code",
   "execution_count": 65,
   "metadata": {},
   "outputs": [
    {
     "name": "stdout",
     "output_type": "stream",
     "text": [
      "工作\n"
     ]
    }
   ],
   "source": [
    "with open(file4, 'rb') as reader:\n",
    "    print(reader.readline(6).decode(codec))"
   ]
  },
  {
   "cell_type": "markdown",
   "metadata": {},
   "source": [
    "- 18 超出行总字节数不会报错"
   ]
  },
  {
   "cell_type": "code",
   "execution_count": 66,
   "metadata": {},
   "outputs": [
    {
     "name": "stdout",
     "output_type": "stream",
     "text": [
      "工作原理\n",
      "\n"
     ]
    }
   ],
   "source": [
    "with open(file4, 'rb') as reader:\n",
    "    print(reader.readline(18).decode(codec))"
   ]
  },
  {
   "cell_type": "markdown",
   "metadata": {},
   "source": [
    "#### readlines() 读出每行，并返回列表"
   ]
  },
  {
   "cell_type": "code",
   "execution_count": 67,
   "metadata": {},
   "outputs": [
    {
     "name": "stdout",
     "output_type": "stream",
     "text": [
      "工作原理\n",
      "\n",
      "变压器由铁芯（或磁芯）和线圈组成，线圈有两个或两个以上的绕组，其中接电源的绕组叫初级线圈，其余的绕组叫次级线圈。它可以变换交流电压、电流和阻抗。最简单的铁心变压器由一个软磁材料做成的铁心及套在铁心上的两个匝数不等的线圈构成，如图所示。\n",
      "\n",
      "变压器原理\n",
      "\n",
      "变压器原理\n",
      "\n",
      "铁心的作用是加强两个线圈间的磁耦合。为了减少铁内涡流和磁滞损耗，铁心由涂漆的硅钢片叠压而成;两个线圈之间没有电的联系，线圈由绝缘铜线（或铝线）绕成。一个线圈接交流电源称为初级线圈（或原线圈），另一个线圈接用电器称为次级线圈（或副线圈）。实际的变压器是很复杂的，不可避免地存在铜损（线圈电阻发热）、铁损（铁心发热）和漏磁（经空气闭合的磁感应线）等，为了简化讨论这里只介绍理想变压器。理想变压器成立的条件是：忽略漏磁通，忽略原、副线圈的电阻，忽略铁心的损耗，忽略空载电流（副线圈开路原线圈线圈中的电流）。例如电力变压器在满载运行时（副线圈输出额定功率）即接近理想变压器情况。\n"
     ]
    }
   ],
   "source": [
    "with open(file4, 'rb') as reader:\n",
    "    for e in reader.readlines():\n",
    "        print(e.decode(codec))"
   ]
  },
  {
   "cell_type": "markdown",
   "metadata": {},
   "source": [
    "### 若已知文件编码格式与default解码(utf-8)致，则可以直接'r'模式打开，不必'b'字节形式追加"
   ]
  },
  {
   "cell_type": "code",
   "execution_count": 68,
   "metadata": {},
   "outputs": [
    {
     "name": "stdout",
     "output_type": "stream",
     "text": [
      "工作原理\n",
      "变压器由铁芯（或磁芯）和线圈组成，线圈有两个或两个以上的绕组，其中接电源的绕组叫初级线圈，其余的绕组叫次级线圈。它可以变换交流电压、电流和阻抗。最简单的铁心变压器由一个软磁材料做成的铁心及套在铁心上的两个匝数不等的线圈构成，如图所示。\n",
      "变压器原理\n",
      "变压器原理\n",
      "铁心的作用是加强两个线圈间的磁耦合。为了减少铁内涡流和磁滞损耗，铁心由涂漆的硅钢片叠压而成;两个线圈之间没有电的联系，线圈由绝缘铜线（或铝线）绕成。一个线圈接交流电源称为初级线圈（或原线圈），另一个线圈接用电器称为次级线圈（或副线圈）。实际的变压器是很复杂的，不可避免地存在铜损（线圈电阻发热）、铁损（铁心发热）和漏磁（经空气闭合的磁感应线）等，为了简化讨论这里只介绍理想变压器。理想变压器成立的条件是：忽略漏磁通，忽略原、副线圈的电阻，忽略铁心的损耗，忽略空载电流（副线圈开路原线圈线圈中的电流）。例如电力变压器在满载运行时（副线圈输出额定功率）即接近理想变压器情况。"
     ]
    }
   ],
   "source": [
    "with open(file4, 'r') as reader:\n",
    "    for line in reader.readlines():\n",
    "        print(line,end='')"
   ]
  },
  {
   "cell_type": "code",
   "execution_count": 69,
   "metadata": {},
   "outputs": [
    {
     "name": "stdout",
     "output_type": "stream",
     "text": [
      "工作原理\n",
      "\n",
      "变压器由铁芯（或磁芯）和线圈组成，线圈有两个或两个以上的绕组，其中接电源的绕组叫初级线圈，其余的绕组叫次级线圈。它可以变换交流电压、电流和阻抗。最简单的铁心变压器由一个软磁材料做成的铁心及套在铁心上的两个匝数不等的线圈构成，如图所示。\n",
      "\n",
      "变压器原理\n",
      "\n",
      "变压器原理\n",
      "\n",
      "铁心的作用是加强两个线圈间的磁耦合。为了减少铁内涡流和磁滞损耗，铁心由涂漆的硅钢片叠压而成;两个线圈之间没有电的联系，线圈由绝缘铜线（或铝线）绕成。一个线圈接交流电源称为初级线圈（或原线圈），另一个线圈接用电器称为次级线圈（或副线圈）。实际的变压器是很复杂的，不可避免地存在铜损（线圈电阻发热）、铁损（铁心发热）和漏磁（经空气闭合的磁感应线）等，为了简化讨论这里只介绍理想变压器。理想变压器成立的条件是：忽略漏磁通，忽略原、副线圈的电阻，忽略铁心的损耗，忽略空载电流（副线圈开路原线圈线圈中的电流）。例如电力变压器在满载运行时（副线圈输出额定功率）即接近理想变压器情况。\n"
     ]
    }
   ],
   "source": [
    "with open(file4, 'r') as reader:\n",
    "    for line in reader.readlines():\n",
    "        print(line)"
   ]
  },
  {
   "cell_type": "code",
   "execution_count": 70,
   "metadata": {},
   "outputs": [
    {
     "name": "stdout",
     "output_type": "stream",
     "text": [
      "工作原理\n",
      "变压器由铁芯（或磁芯）和线圈组成，线圈有两个或两个以上的绕组，其中接电源的绕组叫初级线圈，其余的绕组叫次级线圈。它可以变换交流电压、电流和阻抗。最简单的铁心变压器由一个软磁材料做成的铁心及套在铁心上的两个匝数不等的线圈构成，如图所示。\n",
      "变压器原理\n",
      "变压器原理\n",
      "铁心的作用是加强两个线圈间的磁耦合。为了减少铁内涡流和磁滞损耗，铁心由涂漆的硅钢片叠压而成;两个线圈之间没有电的联系，线圈由绝缘铜线（或铝线）绕成。一个线圈接交流电源称为初级线圈（或原线圈），另一个线圈接用电器称为次级线圈（或副线圈）。实际的变压器是很复杂的，不可避免地存在铜损（线圈电阻发热）、铁损（铁心发热）和漏磁（经空气闭合的磁感应线）等，为了简化讨论这里只介绍理想变压器。理想变压器成立的条件是：忽略漏磁通，忽略原、副线圈的电阻，忽略铁心的损耗，忽略空载电流（副线圈开路原线圈线圈中的电流）。例如电力变压器在满载运行时（副线圈输出额定功率）即接近理想变压器情况。\n"
     ]
    }
   ],
   "source": [
    "with open(file4, 'r') as reader:\n",
    "    print(reader.read())"
   ]
  },
  {
   "cell_type": "markdown",
   "metadata": {},
   "source": [
    "## Write() 写文件\n",
    "- .write(string) write string to the file\n",
    "- .writelines(seq) This writes the sequence to the file. No line endings are appended to each sequence item. It’s up to you to add the appropriate line ending(s)."
   ]
  },
  {
   "cell_type": "code",
   "execution_count": 71,
   "metadata": {},
   "outputs": [],
   "source": [
    "with open(file4, 'r') as reader, open('comb.txt', 'w') as writer:\n",
    "    writer.write(reader.read())"
   ]
  },
  {
   "cell_type": "code",
   "execution_count": 72,
   "metadata": {},
   "outputs": [],
   "source": [
    "with open(file4, 'rb') as reader, open('cb.txt', 'wb') as writer:\n",
    "    writer.write(reader.read())"
   ]
  },
  {
   "cell_type": "code",
   "execution_count": 73,
   "metadata": {},
   "outputs": [],
   "source": [
    "with open(filepath, 'rb') as reader, open('1.txt', 'w') as writer:\n",
    "    writer.write(reader.read().decode('gbk'))"
   ]
  },
  {
   "cell_type": "code",
   "execution_count": 74,
   "metadata": {},
   "outputs": [],
   "source": [
    "with open(file4, 'r') as reader, open('4.txt', 'w') as writer:\n",
    "    writer.writelines(reader.readlines())"
   ]
  },
  {
   "cell_type": "code",
   "execution_count": 75,
   "metadata": {},
   "outputs": [],
   "source": [
    "with open(file4, 'r') as reader, open('4half.txt', 'w') as writer:\n",
    "    linelist = reader.readlines()\n",
    "    for i in range(len(linelist)//2):\n",
    "        writer.writelines(linelist[i])"
   ]
  },
  {
   "cell_type": "code",
   "execution_count": 76,
   "metadata": {},
   "outputs": [
    {
     "data": {
      "text/plain": [
       "'/Users/liang/Downloads/考题'"
      ]
     },
     "execution_count": 76,
     "metadata": {},
     "output_type": "execute_result"
    }
   ],
   "source": [
    "os.getcwd()"
   ]
  },
  {
   "cell_type": "code",
   "execution_count": 77,
   "metadata": {},
   "outputs": [],
   "source": [
    "testdir = os.getcwd()+'/test'"
   ]
  },
  {
   "cell_type": "code",
   "execution_count": 78,
   "metadata": {},
   "outputs": [
    {
     "data": {
      "text/plain": [
       "'/Users/liang/Downloads/考题/test'"
      ]
     },
     "execution_count": 78,
     "metadata": {},
     "output_type": "execute_result"
    }
   ],
   "source": [
    "testdir"
   ]
  },
  {
   "cell_type": "code",
   "execution_count": 79,
   "metadata": {},
   "outputs": [],
   "source": [
    "fileslist=os.listdir(testdir)"
   ]
  },
  {
   "cell_type": "code",
   "execution_count": 80,
   "metadata": {},
   "outputs": [
    {
     "name": "stdout",
     "output_type": "stream",
     "text": [
      "/Users/liang/Downloads/考题/test/4.txt\n",
      "/Users/liang/Downloads/考题/test/3.txt\n",
      "/Users/liang/Downloads/考题/test/2.txt\n",
      "/Users/liang/Downloads/考题/test/1.txt\n"
     ]
    }
   ],
   "source": [
    "codec = ''\n",
    "fw = open('liang','w')\n",
    "for file in fileslist:\n",
    "    absfile = testdir+'/'+file\n",
    "    print(absfile)\n",
    "    with open(absfile,'rb') as reader:\n",
    "        codec = chardet.detect(reader.readline())['encoding']\n",
    "        \n",
    "    with open(absfile,'rb') as reader:\n",
    "        contents = reader.read().decode(codec,'ignore')\n",
    "        fw.write(contents)\n",
    "fw.close()\n",
    "        "
   ]
  },
  {
   "cell_type": "code",
   "execution_count": 81,
   "metadata": {},
   "outputs": [],
   "source": [
    "codestyle = ''\n",
    "with open('wang', 'w+') as writer:\n",
    "    for file in fileslist:\n",
    "        absfile = testdir+'/'+file\n",
    "        with open(absfile, 'rb') as reader:\n",
    "            codestyle = chardet.detect(reader.readline())['encoding']\n",
    "        with open(absfile,'rb') as reader:\n",
    "            writer.write(reader.read().decode(codestyle))\n",
    "            writer.write('\\r\\n\\r\\n')"
   ]
  },
  {
   "cell_type": "code",
   "execution_count": null,
   "metadata": {},
   "outputs": [],
   "source": []
  }
 ],
 "metadata": {
  "kernelspec": {
   "display_name": "Python 3",
   "language": "python",
   "name": "python3"
  },
  "language_info": {
   "codemirror_mode": {
    "name": "ipython",
    "version": 3
   },
   "file_extension": ".py",
   "mimetype": "text/x-python",
   "name": "python",
   "nbconvert_exporter": "python",
   "pygments_lexer": "ipython3",
   "version": "3.7.1"
  }
 },
 "nbformat": 4,
 "nbformat_minor": 2
}
