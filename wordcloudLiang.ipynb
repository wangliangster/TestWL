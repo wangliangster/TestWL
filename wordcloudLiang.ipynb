{
 "cells": [
  {
   "cell_type": "markdown",
   "metadata": {},
   "source": [
    "[![licence](http://img.shields.io/badge/licence-MIT-blue.svg?style=flat)](https://github.com/amueller/word_cloud/blob/master/LICENSE)\n",
    "[![DOI](https://zenodo.org/badge/21369/amueller/word_cloud.svg)](https://zenodo.org/badge/latestdoi/21369/amueller/word_cloud)\n",
    "\n",
    "|      | Linux                                        | macOS                                        | Windows                                      |\n",
    "|------|----------------------------------------------|----------------------------------------------|----------------------------------------------|\n",
    "| PyPI | [![CircleCI][circleci_image]][circleci_link] | [![TravisCI][travisci_image]][travisci_link] | [![AppVeyor][appveyor_image]][appveyor_link] |\n",
    "\n",
    "[circleci_link]: https://circleci.com/gh/amueller/word_cloud/tree/master\n",
    "[circleci_image]: https://circleci.com/gh/amueller/word_cloud/tree/master.svg?style=svg\n",
    "\n",
    "[travisci_link]: https://travis-ci.org/amueller/word_cloud\n",
    "[travisci_image]: https://travis-ci.org/amueller/word_cloud.svg?branch=master\n",
    "\n",
    "[appveyor_link]: https://ci.appveyor.com/project/amueller/word-cloud/branch/master\n",
    "[appveyor_image]: https://img.shields.io/appveyor/ci/amueller/word-cloud/master.svg\n",
    "\n",
    "word_cloud\n",
    "==========\n",
    "\n",
    "A little word cloud generator in Python. Read more about it on the [blog\n",
    "post][blog-post] or the [website][website].\n",
    "\n",
    "The code is tested against Python 2.7, 3.4, 3.5, 3.6 and 3.7.\n",
    "\n",
    "## Installation\n",
    "\n",
    "If you are using pip:\n",
    "\n",
    "    pip install wordcloud\n",
    "\n",
    "If you are using conda, you can install from the `conda-forge` channel:\n",
    "\n",
    "    conda install -c conda-forge wordcloud\n",
    "\n",
    "\n",
    "#### Installation notes\n",
    "\n",
    "wordcloud depends on `numpy` and `pillow`.\n",
    "\n",
    "To save the wordcloud into a file, `matplotlib` can also be installed. See [examples](#examples) below.\n",
    "\n",
    "If there are no wheels available for your version of python, installing the\n",
    "package requires having a C compiler set up. Before installing a compiler, report\n",
    "an issue describing the version of python and operating system being used.\n",
    "\n",
    "\n",
    "## Examples\n",
    "\n",
    "Check out [examples/simple.py][simple] for a short intro. A sample output is:\n",
    "\n",
    "![Constitution](examples/constitution.png)\n",
    "\n",
    "Or run [examples/masked.py][masked] to see more options. A sample output is:\n",
    "\n",
    "![Alice in Wonderland](examples/alice.png)\n",
    "\n",
    "Getting fancy with some colors:\n",
    "![Parrot with rainbow colors](examples/parrot.png)\n",
    "\n",
    "\n",
    "## Command-line usage\n",
    "\n",
    "The `wordcloud_cli` tool can be used to generate word clouds directly from the command-line:\n",
    "\n",
    "\t$ wordcloud_cli --text mytext.txt --imagefile wordcloud.png\n",
    "\n",
    "If you're dealing with PDF files, then `pdftotext`, included by default with many Linux distribution, comes in handy:\n",
    "\n",
    "\t$ pdftotext mydocument.pdf - | wordcloud_cli --imagefile wordcloud.png\n",
    "\n",
    "In the previous example, the `-` argument orders `pdftotext` to write the resulting text to stdout, which is then piped to the stdin of `wordcloud_cli.py`.\n",
    "\n",
    "Use `wordcloud_cli --help` so see all available options.\n",
    "\n",
    "[blog-post]: http://peekaboo-vision.blogspot.de/2012/11/a-wordcloud-in-python.html\n",
    "[website]: http://amueller.github.io/word_cloud/\n",
    "[simple]: examples/simple.py\n",
    "[masked]: examples/masked.py\n",
    "[reddit-cloud]: https://github.com/amueller/reddit-cloud\n",
    "[wc2]: http://www.reddit.com/user/WordCloudBot2\n",
    "[wc2top]: http://www.reddit.com/user/WordCloudBot2/?sort=top\n",
    "[chat-stats]: https://github.com/popcorncolonel/Chat_stats\n",
    "[twitter-word-cloud-bot]: https://github.com/defacto133/twitter-wordcloud-bot\n",
    "[twitter-wordnuvola]: https://twitter.com/wordnuvola\n",
    "[imgur-wordnuvola]: http://defacto133.imgur.com/all/\n",
    "[intprob]: http://peekaboo-vision.blogspot.de/2012/11/a-wordcloud-in-python.html#bc_0_28B\n",
    "\n",
    "\n",
    "## Licensing\n",
    "The wordcloud library is MIT licenced, but contains DroidSansMono.ttf, a true type font by Google, that is apache licensed.\n",
    "The font is by no means integral, and any other font can be used by setting the ``font_path`` variable when creating a ``WordCloud`` object.\n"
   ]
  },
  {
   "cell_type": "code",
   "execution_count": 1,
   "metadata": {},
   "outputs": [
    {
     "name": "stdout",
     "output_type": "stream",
     "text": [
      "usage: wordcloud_cli [-h] [--text file] [--regexp regexp] [--stopwords file]\n",
      "                     [--imagefile file] [--fontfile path] [--mask file]\n",
      "                     [--colormask file] [--contour_width width]\n",
      "                     [--contour_color color] [--relative_scaling rs]\n",
      "                     [--margin width] [--width width] [--height height]\n",
      "                     [--color color] [--background color] [--no_collocations]\n",
      "                     [--version]\n",
      "\n",
      "A simple command line interface for wordcloud module.\n",
      "\n",
      "optional arguments:\n",
      "  -h, --help            show this help message and exit\n",
      "  --text file           specify file of words to build the word cloud\n",
      "                        (default: stdin)\n",
      "  --regexp regexp       override the regular expression defining what\n",
      "                        constitutes a word\n",
      "  --stopwords file      specify file of stopwords (containing one word per\n",
      "                        line) to remove from the given text after parsing\n",
      "  --imagefile file      file the completed PNG image should be written to\n",
      "                        (default: stdout)\n",
      "  --fontfile path       path to font file you wish to use (default:\n",
      "                        DroidSansMono)\n",
      "  --mask file           mask to use for the image form\n",
      "  --colormask file      color mask to use for image coloring\n",
      "  --contour_width width\n",
      "                        if greater than 0, draw mask contour (default: 0)\n",
      "  --contour_color color\n",
      "                        use given color as mask contour color - accepts any\n",
      "                        value from PIL.ImageColor.getcolor\n",
      "  --relative_scaling rs\n",
      "                        scaling of words by frequency (0 - 1)\n",
      "  --margin width        spacing to leave around words\n",
      "  --width width         define output image width\n",
      "  --height height       define output image height\n",
      "  --color color         use given color as coloring for the image - accepts\n",
      "                        any value from PIL.ImageColor.getcolor\n",
      "  --background color    use given color as background color for the image -\n",
      "                        accepts any value from PIL.ImageColor.getcolor\n",
      "  --no_collocations     do not add collocations (bigrams) to word cloud\n",
      "                        (default: add unigrams and bigrams)\n",
      "  --version             show program's version number and exit\n"
     ]
    }
   ],
   "source": [
    "!wordcloud_cli --help"
   ]
  },
  {
   "cell_type": "markdown",
   "metadata": {},
   "source": [
    "# TF\n",
    "## Term Frequency"
   ]
  },
  {
   "cell_type": "code",
   "execution_count": 2,
   "metadata": {},
   "outputs": [],
   "source": [
    "News='''\n",
    "守正创新 奋进新时代 开创宣传思想文化工作新局面新闻频道 来源：央视网 2019年01月06日 20:02A-A+我要分享请点此安装最新Flash央视网消息（新闻联播）：党的十八大以来，以习近平同志为核心的党中央举旗定向，正本清源，使意识形态领域形势发生了全局性、根本性的转变。2018年8月，习近平总书记在全国宣传思想工作会议上发表重要讲话，指出宣传思想战线进入了守正创新的重要阶段，强调“推动宣传思想工作不断强起来”。总书记的重要讲话，为新时代宣传思想工作指明前进方向，宣传思想文化战线以习近平新时代中国特色社会主义思想为指南，自觉肩负起新形势下宣传思想工作的使命任务，奋力开创宣传思想工作新局面。2018年是全面贯彻党的十九大精神开局之年，神州大地上，学习新理论的热潮在涌动。《习近平谈治国理政》第一、二卷，《习近平新时代中国特色社会主义思想三十讲》成为宣传习近平新时代中国特色社会主义思想和党的十九大精神的权威读本。作为“理论热点面对面”系列的新成员，通俗理论读物《新时代面对面》紧密联系新时代中国特色社会主义生动实践和干部群众思想实际，对相关问题进行深入浅出的回答。推动习近平新时代中国特色社会主义思想广泛传播。伟大的事业，需要伟大的精神。正在国家博物馆展出的“伟大的变革——庆祝改革开放40周年大型展览”，通过一件件浓缩历史、记录时代的展品，鼓舞人们接续奋斗、开创未来。一年多来，宣传思想文化战线紧紧围绕“将改革进行到底”的主题，推出系列主题宣教活动、理论文章、新闻报道和丰富的文艺创作。中宣部组织中央和地方主要媒体，开展“壮阔东方潮 奋进新时代——庆祝改革开放40周年”大型主题采访活动；电视纪录片《我们一起走过——致敬改革开放40周年》，大型政论专题片《必由之路》带领人们共忆峥嵘岁月，以契合新时代的精神状态共圆中国梦。2018年，文化和旅游部、国家广播电视总局、中央广播电视总台组建，有力加强了党对宣传思想文化工作的全面领导，机构改革的新成效释放出宣传思想文化工作新能量。从《我爱你，中国》“快闪”活动，到形式多样的基层理论宣讲团，全国宣传思想文化工作着力创新，打通基层工作的“最后一公里”，县级融媒体中心全面启动，互联网治理模式和能力不断提升。队伍建设的新进展，让宣传思想文化事业焕发更强的生机和活力。一年多来，宣传思想文化战线积极创新宣传理念和方法，推动国际传播能力建设。博鳌亚洲论坛2018年年会、上合组织青岛峰会、中非合作论坛北京峰会、首届中国国际进口博览会……一场场重大主场外交活动，让世界聆听中国声音、展现中国自信。《习近平谈治国理政》第二卷自出版以来全球持续热销，为各国读者读懂中国打开“思想之窗”；昆曲、京剧等洋溢浓郁中国风的演出不断亮相国际舞台，国产电视剧、网络小说风靡海外；配合国家领导人国事访问，开展中国电影周、艺术节、智库交流等国际文化交流活动，向世界展示了更加真实、立体、全面的新时代中国。\n",
    "'''"
   ]
  },
  {
   "cell_type": "markdown",
   "metadata": {},
   "source": [
    "# return list by jieba cut\n",
    "`jieba.lcut(string)`"
   ]
  },
  {
   "cell_type": "code",
   "execution_count": 3,
   "metadata": {},
   "outputs": [],
   "source": [
    "import jieba\n",
    "import re\n",
    "def cut(string):\n",
    "    string=''.join(re.findall('[\\d\\w|《》]+',string))\n",
    "    return jieba.lcut(string)"
   ]
  },
  {
   "cell_type": "markdown",
   "metadata": {},
   "source": [
    "## Combine 《xxxxxx》 cuted by jieba\n",
    "### since not found method of avoid 《xxxxxx》cut in jieba"
   ]
  },
  {
   "cell_type": "code",
   "execution_count": 4,
   "metadata": {},
   "outputs": [],
   "source": [
    "### combine 《xxxxxx》 cuted by jieba\n",
    "def comb_cut(LIST):\n",
    "    index=0\n",
    "    start=0\n",
    "    end=0\n",
    "    while index<len(LIST):\n",
    "        if LIST[index]==\"《\":\n",
    "            start=index\n",
    "            end=index\n",
    "            while LIST[end]!=\"》\":\n",
    "                end+=1\n",
    "            item=''.join(LIST[start:end+1])\n",
    "            LIST[start]=item\n",
    "            del LIST[start+1:end+1]\n",
    "        index+=1\n",
    "    return LIST"
   ]
  },
  {
   "cell_type": "markdown",
   "metadata": {},
   "source": [
    "    from collections import Counter\n",
    "    def TF(LIST):\n",
    "        return sorted(Counter(LIST).items(), key=lambda item:item[1],reverse=True)"
   ]
  },
  {
   "cell_type": "markdown",
   "metadata": {},
   "source": [
    "# TF(String)\n",
    "## Final TF API"
   ]
  },
  {
   "cell_type": "code",
   "execution_count": 5,
   "metadata": {},
   "outputs": [],
   "source": [
    "from collections import Counter\n",
    "def TF(string):\n",
    "    LIST=comb_cut(cut(string))\n",
    "    return sorted(Counter(LIST).items(), key=lambda x:x[1],reverse=True)"
   ]
  },
  {
   "cell_type": "markdown",
   "metadata": {},
   "source": [
    "# DF\n",
    "## Document Frequency"
   ]
  },
  {
   "cell_type": "markdown",
   "metadata": {},
   "source": [
    "Documents Lib='/Users/liang/Documents/GitHub/datasource/sqlResult_1558435.csv'"
   ]
  },
  {
   "cell_type": "code",
   "execution_count": 6,
   "metadata": {},
   "outputs": [],
   "source": [
    "import pandas as pd\n",
    "LibfileName='/Users/liang/Documents/GitHub/datasource/sqlResult_1558435.csv'\n",
    "Libs=pd.read_csv(LibfileName,encoding='gb18030')"
   ]
  },
  {
   "cell_type": "code",
   "execution_count": 7,
   "metadata": {},
   "outputs": [
    {
     "data": {
      "text/html": [
       "<div>\n",
       "<style scoped>\n",
       "    .dataframe tbody tr th:only-of-type {\n",
       "        vertical-align: middle;\n",
       "    }\n",
       "\n",
       "    .dataframe tbody tr th {\n",
       "        vertical-align: top;\n",
       "    }\n",
       "\n",
       "    .dataframe thead th {\n",
       "        text-align: right;\n",
       "    }\n",
       "</style>\n",
       "<table border=\"1\" class=\"dataframe\">\n",
       "  <thead>\n",
       "    <tr style=\"text-align: right;\">\n",
       "      <th></th>\n",
       "      <th>id</th>\n",
       "      <th>author</th>\n",
       "      <th>source</th>\n",
       "      <th>content</th>\n",
       "      <th>feature</th>\n",
       "      <th>title</th>\n",
       "      <th>url</th>\n",
       "    </tr>\n",
       "  </thead>\n",
       "  <tbody>\n",
       "    <tr>\n",
       "      <th>0</th>\n",
       "      <td>89617</td>\n",
       "      <td>NaN</td>\n",
       "      <td>快科技@http://www.kkj.cn/</td>\n",
       "      <td>此外，自本周（6月12日）起，除小米手机6等15款机型外，其余机型已暂停更新发布（含开发版/...</td>\n",
       "      <td>{\"type\":\"科技\",\"site\":\"cnbeta\",\"commentNum\":\"37\"...</td>\n",
       "      <td>小米MIUI 9首批机型曝光：共计15款</td>\n",
       "      <td>http://www.cnbeta.com/articles/tech/623597.htm</td>\n",
       "    </tr>\n",
       "    <tr>\n",
       "      <th>1</th>\n",
       "      <td>89616</td>\n",
       "      <td>NaN</td>\n",
       "      <td>快科技@http://www.kkj.cn/</td>\n",
       "      <td>骁龙835作为唯一通过Windows 10桌面平台认证的ARM处理器，高通强调，不会因为只考...</td>\n",
       "      <td>{\"type\":\"科技\",\"site\":\"cnbeta\",\"commentNum\":\"15\"...</td>\n",
       "      <td>骁龙835在Windows 10上的性能表现有望改善</td>\n",
       "      <td>http://www.cnbeta.com/articles/tech/623599.htm</td>\n",
       "    </tr>\n",
       "    <tr>\n",
       "      <th>2</th>\n",
       "      <td>89615</td>\n",
       "      <td>NaN</td>\n",
       "      <td>快科技@http://www.kkj.cn/</td>\n",
       "      <td>此前的一加3T搭载的是3400mAh电池，DashCharge快充规格为5V/4A。\\r\\n...</td>\n",
       "      <td>{\"type\":\"科技\",\"site\":\"cnbeta\",\"commentNum\":\"18\"...</td>\n",
       "      <td>一加手机5细节曝光：3300mAh、充半小时用1天</td>\n",
       "      <td>http://www.cnbeta.com/articles/tech/623601.htm</td>\n",
       "    </tr>\n",
       "  </tbody>\n",
       "</table>\n",
       "</div>"
      ],
      "text/plain": [
       "      id author                  source  \\\n",
       "0  89617    NaN  快科技@http://www.kkj.cn/   \n",
       "1  89616    NaN  快科技@http://www.kkj.cn/   \n",
       "2  89615    NaN  快科技@http://www.kkj.cn/   \n",
       "\n",
       "                                             content  \\\n",
       "0  此外，自本周（6月12日）起，除小米手机6等15款机型外，其余机型已暂停更新发布（含开发版/...   \n",
       "1  骁龙835作为唯一通过Windows 10桌面平台认证的ARM处理器，高通强调，不会因为只考...   \n",
       "2  此前的一加3T搭载的是3400mAh电池，DashCharge快充规格为5V/4A。\\r\\n...   \n",
       "\n",
       "                                             feature  \\\n",
       "0  {\"type\":\"科技\",\"site\":\"cnbeta\",\"commentNum\":\"37\"...   \n",
       "1  {\"type\":\"科技\",\"site\":\"cnbeta\",\"commentNum\":\"15\"...   \n",
       "2  {\"type\":\"科技\",\"site\":\"cnbeta\",\"commentNum\":\"18\"...   \n",
       "\n",
       "                        title                                             url  \n",
       "0        小米MIUI 9首批机型曝光：共计15款  http://www.cnbeta.com/articles/tech/623597.htm  \n",
       "1  骁龙835在Windows 10上的性能表现有望改善  http://www.cnbeta.com/articles/tech/623599.htm  \n",
       "2   一加手机5细节曝光：3300mAh、充半小时用1天  http://www.cnbeta.com/articles/tech/623601.htm  "
      ]
     },
     "execution_count": 7,
     "metadata": {},
     "output_type": "execute_result"
    }
   ],
   "source": [
    "Libs.head(3)"
   ]
  },
  {
   "cell_type": "code",
   "execution_count": 8,
   "metadata": {},
   "outputs": [],
   "source": [
    "Libs=Libs.fillna('liang')"
   ]
  },
  {
   "cell_type": "code",
   "execution_count": 9,
   "metadata": {},
   "outputs": [
    {
     "data": {
      "text/html": [
       "<div>\n",
       "<style scoped>\n",
       "    .dataframe tbody tr th:only-of-type {\n",
       "        vertical-align: middle;\n",
       "    }\n",
       "\n",
       "    .dataframe tbody tr th {\n",
       "        vertical-align: top;\n",
       "    }\n",
       "\n",
       "    .dataframe thead th {\n",
       "        text-align: right;\n",
       "    }\n",
       "</style>\n",
       "<table border=\"1\" class=\"dataframe\">\n",
       "  <thead>\n",
       "    <tr style=\"text-align: right;\">\n",
       "      <th></th>\n",
       "      <th>id</th>\n",
       "      <th>author</th>\n",
       "      <th>source</th>\n",
       "      <th>content</th>\n",
       "      <th>feature</th>\n",
       "      <th>title</th>\n",
       "      <th>url</th>\n",
       "    </tr>\n",
       "  </thead>\n",
       "  <tbody>\n",
       "    <tr>\n",
       "      <th>0</th>\n",
       "      <td>89617</td>\n",
       "      <td>liang</td>\n",
       "      <td>快科技@http://www.kkj.cn/</td>\n",
       "      <td>此外，自本周（6月12日）起，除小米手机6等15款机型外，其余机型已暂停更新发布（含开发版/...</td>\n",
       "      <td>{\"type\":\"科技\",\"site\":\"cnbeta\",\"commentNum\":\"37\"...</td>\n",
       "      <td>小米MIUI 9首批机型曝光：共计15款</td>\n",
       "      <td>http://www.cnbeta.com/articles/tech/623597.htm</td>\n",
       "    </tr>\n",
       "    <tr>\n",
       "      <th>1</th>\n",
       "      <td>89616</td>\n",
       "      <td>liang</td>\n",
       "      <td>快科技@http://www.kkj.cn/</td>\n",
       "      <td>骁龙835作为唯一通过Windows 10桌面平台认证的ARM处理器，高通强调，不会因为只考...</td>\n",
       "      <td>{\"type\":\"科技\",\"site\":\"cnbeta\",\"commentNum\":\"15\"...</td>\n",
       "      <td>骁龙835在Windows 10上的性能表现有望改善</td>\n",
       "      <td>http://www.cnbeta.com/articles/tech/623599.htm</td>\n",
       "    </tr>\n",
       "    <tr>\n",
       "      <th>2</th>\n",
       "      <td>89615</td>\n",
       "      <td>liang</td>\n",
       "      <td>快科技@http://www.kkj.cn/</td>\n",
       "      <td>此前的一加3T搭载的是3400mAh电池，DashCharge快充规格为5V/4A。\\r\\n...</td>\n",
       "      <td>{\"type\":\"科技\",\"site\":\"cnbeta\",\"commentNum\":\"18\"...</td>\n",
       "      <td>一加手机5细节曝光：3300mAh、充半小时用1天</td>\n",
       "      <td>http://www.cnbeta.com/articles/tech/623601.htm</td>\n",
       "    </tr>\n",
       "  </tbody>\n",
       "</table>\n",
       "</div>"
      ],
      "text/plain": [
       "      id author                  source  \\\n",
       "0  89617  liang  快科技@http://www.kkj.cn/   \n",
       "1  89616  liang  快科技@http://www.kkj.cn/   \n",
       "2  89615  liang  快科技@http://www.kkj.cn/   \n",
       "\n",
       "                                             content  \\\n",
       "0  此外，自本周（6月12日）起，除小米手机6等15款机型外，其余机型已暂停更新发布（含开发版/...   \n",
       "1  骁龙835作为唯一通过Windows 10桌面平台认证的ARM处理器，高通强调，不会因为只考...   \n",
       "2  此前的一加3T搭载的是3400mAh电池，DashCharge快充规格为5V/4A。\\r\\n...   \n",
       "\n",
       "                                             feature  \\\n",
       "0  {\"type\":\"科技\",\"site\":\"cnbeta\",\"commentNum\":\"37\"...   \n",
       "1  {\"type\":\"科技\",\"site\":\"cnbeta\",\"commentNum\":\"15\"...   \n",
       "2  {\"type\":\"科技\",\"site\":\"cnbeta\",\"commentNum\":\"18\"...   \n",
       "\n",
       "                        title                                             url  \n",
       "0        小米MIUI 9首批机型曝光：共计15款  http://www.cnbeta.com/articles/tech/623597.htm  \n",
       "1  骁龙835在Windows 10上的性能表现有望改善  http://www.cnbeta.com/articles/tech/623599.htm  \n",
       "2   一加手机5细节曝光：3300mAh、充半小时用1天  http://www.cnbeta.com/articles/tech/623601.htm  "
      ]
     },
     "execution_count": 9,
     "metadata": {},
     "output_type": "execute_result"
    }
   ],
   "source": [
    "Libs.head(3)"
   ]
  },
  {
   "cell_type": "code",
   "execution_count": 10,
   "metadata": {},
   "outputs": [
    {
     "data": {
      "text/html": [
       "<div>\n",
       "<style scoped>\n",
       "    .dataframe tbody tr th:only-of-type {\n",
       "        vertical-align: middle;\n",
       "    }\n",
       "\n",
       "    .dataframe tbody tr th {\n",
       "        vertical-align: top;\n",
       "    }\n",
       "\n",
       "    .dataframe thead th {\n",
       "        text-align: right;\n",
       "    }\n",
       "</style>\n",
       "<table border=\"1\" class=\"dataframe\">\n",
       "  <thead>\n",
       "    <tr style=\"text-align: right;\">\n",
       "      <th></th>\n",
       "      <th>id</th>\n",
       "      <th>author</th>\n",
       "      <th>source</th>\n",
       "      <th>content</th>\n",
       "      <th>feature</th>\n",
       "      <th>title</th>\n",
       "      <th>url</th>\n",
       "    </tr>\n",
       "  </thead>\n",
       "  <tbody>\n",
       "    <tr>\n",
       "      <th>89608</th>\n",
       "      <td>3</td>\n",
       "      <td>张旌</td>\n",
       "      <td>新华社</td>\n",
       "      <td>\\n\\n2017年5月29日，在法国巴黎郊外的凡尔赛宫，法国总统马克龙出席新闻发布会。（新华...</td>\n",
       "      <td>{\"type\":\"其它\",\"site\":\"新华社\",\"url\":\"http://home.x...</td>\n",
       "      <td>法国议会选举　马克龙有望获“压倒性胜利”</td>\n",
       "      <td>http://home.xinhua-news.com/gdsdetailxhsnew/22...</td>\n",
       "    </tr>\n",
       "    <tr>\n",
       "      <th>89609</th>\n",
       "      <td>2</td>\n",
       "      <td>夏文辉</td>\n",
       "      <td>新华社</td>\n",
       "      <td>\\n\\n2017年5月25日，在美国马萨诸塞州剑桥市，哈佛大学毕业生在毕业典礼上欢呼。（新华...</td>\n",
       "      <td>{\"type\":\"其它\",\"site\":\"新华社\",\"url\":\"http://home.x...</td>\n",
       "      <td>哈佛大学为何取消这些新生入选资格？</td>\n",
       "      <td>http://home.xinhua-news.com/gdsdetailxhsnew/22...</td>\n",
       "    </tr>\n",
       "    <tr>\n",
       "      <th>89610</th>\n",
       "      <td>1</td>\n",
       "      <td>王子江 张寒</td>\n",
       "      <td>新华社</td>\n",
       "      <td>新华社德国杜塞尔多夫６月６日电题：乒乓女球迷　\\n　　新华社记者王子江、张寒\\n　　熊老...</td>\n",
       "      <td>{\"type\":\"体育\",\"site\":\"新华社\",\"url\":\"http://home.x...</td>\n",
       "      <td>（体育）题：乒乓女球迷</td>\n",
       "      <td>http://home.xinhua-news.com/gdsdetailxhsnew/22...</td>\n",
       "    </tr>\n",
       "  </tbody>\n",
       "</table>\n",
       "</div>"
      ],
      "text/plain": [
       "       id  author source                                            content  \\\n",
       "89608   3      张旌    新华社  \\n\\n2017年5月29日，在法国巴黎郊外的凡尔赛宫，法国总统马克龙出席新闻发布会。（新华...   \n",
       "89609   2     夏文辉    新华社  \\n\\n2017年5月25日，在美国马萨诸塞州剑桥市，哈佛大学毕业生在毕业典礼上欢呼。（新华...   \n",
       "89610   1  王子江 张寒    新华社  　　新华社德国杜塞尔多夫６月６日电题：乒乓女球迷　\\n　　新华社记者王子江、张寒\\n　　熊老...   \n",
       "\n",
       "                                                 feature  \\\n",
       "89608  {\"type\":\"其它\",\"site\":\"新华社\",\"url\":\"http://home.x...   \n",
       "89609  {\"type\":\"其它\",\"site\":\"新华社\",\"url\":\"http://home.x...   \n",
       "89610  {\"type\":\"体育\",\"site\":\"新华社\",\"url\":\"http://home.x...   \n",
       "\n",
       "                      title                                                url  \n",
       "89608  法国议会选举　马克龙有望获“压倒性胜利”  http://home.xinhua-news.com/gdsdetailxhsnew/22...  \n",
       "89609     哈佛大学为何取消这些新生入选资格？  http://home.xinhua-news.com/gdsdetailxhsnew/22...  \n",
       "89610          （体育）题：乒乓女球迷　  http://home.xinhua-news.com/gdsdetailxhsnew/22...  "
      ]
     },
     "execution_count": 10,
     "metadata": {},
     "output_type": "execute_result"
    }
   ],
   "source": [
    "Libs.tail(3)"
   ]
  },
  {
   "cell_type": "code",
   "execution_count": 11,
   "metadata": {},
   "outputs": [],
   "source": [
    "Libs_content=Libs['content']"
   ]
  },
  {
   "cell_type": "code",
   "execution_count": 12,
   "metadata": {},
   "outputs": [
    {
     "data": {
      "application/vnd.jupyter.widget-view+json": {
       "model_id": "5ac88f9ca929413a9b833bf22e21c713",
       "version_major": 2,
       "version_minor": 0
      },
      "text/plain": [
       "HBox(children=(IntProgress(value=0, max=89611), HTML(value='')))"
      ]
     },
     "metadata": {},
     "output_type": "display_data"
    },
    {
     "name": "stderr",
     "output_type": "stream",
     "text": [
      "Building prefix dict from the default dictionary ...\n",
      "Loading model from cache /var/folders/f1/s02h7_c152xbsy1b3cq00pr80000gn/T/jieba.cache\n",
      "Loading model cost 0.670 seconds.\n",
      "Prefix dict has been built succesfully.\n"
     ]
    },
    {
     "name": "stdout",
     "output_type": "stream",
     "text": [
      "\n"
     ]
    }
   ],
   "source": [
    "from tqdm import tqdm_notebook\n",
    "Lib_of_cut_words_set_list=[]\n",
    "for new in tqdm_notebook(Libs_content,total=len(Libs_content)):\n",
    "    Lib_of_cut_words_set_list.append(set(cut(new)))"
   ]
  },
  {
   "cell_type": "code",
   "execution_count": 13,
   "metadata": {},
   "outputs": [],
   "source": [
    "def DF(word):\n",
    "    return sum(1 for setitem in Lib_of_cut_words_set_list if word in setitem)/len(Lib_of_cut_words_set_list)"
   ]
  },
  {
   "cell_type": "code",
   "execution_count": 14,
   "metadata": {},
   "outputs": [
    {
     "data": {
      "text/plain": [
       "0.0"
      ]
     },
     "execution_count": 14,
     "metadata": {},
     "output_type": "execute_result"
    }
   ],
   "source": [
    "DF('。。。')"
   ]
  },
  {
   "cell_type": "markdown",
   "metadata": {},
   "source": [
    "Set \n",
    "$\n",
    "\\varepsilon=1e-6\n",
    "$\n"
   ]
  },
  {
   "cell_type": "code",
   "execution_count": 15,
   "metadata": {},
   "outputs": [],
   "source": [
    "eps=1e-6 # avoid division equal 0 for some special word input\n",
    "def IDF(word):\n",
    "    if DF(word)==0:\n",
    "        return 1/eps\n",
    "    else:\n",
    "        return 1/DF(word)"
   ]
  },
  {
   "cell_type": "code",
   "execution_count": 16,
   "metadata": {},
   "outputs": [],
   "source": [
    "import math\n",
    "def log_IDF(word):\n",
    "    return math.log10(IDF(word))"
   ]
  },
  {
   "cell_type": "code",
   "execution_count": 17,
   "metadata": {},
   "outputs": [
    {
     "data": {
      "text/plain": [
       "1000000.0"
      ]
     },
     "execution_count": 17,
     "metadata": {},
     "output_type": "execute_result"
    }
   ],
   "source": [
    "IDF('。。')"
   ]
  },
  {
   "cell_type": "code",
   "execution_count": 18,
   "metadata": {},
   "outputs": [],
   "source": [
    "from collections import Counter\n",
    "def V_TF(word, string):\n",
    "    List=cut(string)\n",
    "    return Counter(List)[word]/len(List)"
   ]
  },
  {
   "cell_type": "code",
   "execution_count": 19,
   "metadata": {},
   "outputs": [],
   "source": [
    "def TFIDF(word,string):\n",
    "    v_tf=V_TF(word,string)\n",
    "    v_idf=log_IDF(word)\n",
    "    return v_tf * v_idf"
   ]
  },
  {
   "cell_type": "code",
   "execution_count": 20,
   "metadata": {},
   "outputs": [
    {
     "data": {
      "text/plain": [
       "0.07077604748755173"
      ]
     },
     "execution_count": 20,
     "metadata": {},
     "output_type": "execute_result"
    }
   ],
   "source": [
    "TFIDF('思想',News)"
   ]
  },
  {
   "cell_type": "code",
   "execution_count": 21,
   "metadata": {},
   "outputs": [],
   "source": [
    "def word_import_with_TFIDF(string):\n",
    "    important={\n",
    "        word: TFIDF(word,string) for word in set(cut(string))\n",
    "    }\n",
    "    return sorted(important.items(),key=lambda x:x[1],reverse=True)"
   ]
  },
  {
   "cell_type": "code",
   "execution_count": 22,
   "metadata": {},
   "outputs": [
    {
     "data": {
      "text/plain": [
       "0.0"
      ]
     },
     "execution_count": 22,
     "metadata": {},
     "output_type": "execute_result"
    }
   ],
   "source": [
    "TFIDF('\\n',News)"
   ]
  },
  {
   "cell_type": "code",
   "execution_count": 23,
   "metadata": {},
   "outputs": [],
   "source": [
    "News2='''\n",
    "中共中央政治局常务委员会召开会议\n",
    "\n",
    "听取全国人大常委会、国务院、全国政协、最高人民法院、最高人民检察院党组工作汇报\n",
    "\n",
    "听取中央书记处工作报告\n",
    "\n",
    "中共中央总书记习近平主持会议\n",
    "\n",
    "　　新华社北京1月7日电 中共中央政治局常务委员会1月7日全天召开会议，听取全国人大常委会、国务院、全国政协、最高人民法院、最高人民检察院党组工作汇报，听取中央书记处工作报告。中共中央总书记习近平主持会议并发表重要讲话。\n",
    "\n",
    "　　会议认为，过去一年，全国人大常委会、国务院、全国政协、最高人民法院、最高人民检察院党组认真学习贯彻习近平新时代中国特色社会主义思想，贯彻落实党的十九大和十九届二中、三中全会精神，自觉维护习近平总书记党中央的核心、全党的核心地位，自觉维护党中央权威和集中统一领导，坚决贯彻党中央决策部署，围绕党和国家工作大局履职尽责，推动各方面工作取得新进展，为贯彻落实党的十九大精神实现良好开局作出了积极贡献。同时，切实加强党组自身建设，认真贯彻民主集中制，自觉履行管党治党主体责任，在全面从严治党上发挥了表率作用。\n",
    "\n",
    "　　会议认为，过去一年，中央书记处贯彻党中央决策部署，在加强理论武装、推进全面从严治党、指导群团工作和群团改革、推动党内法规制定实施、筹办重大活动等方面做了不少工作，充分发挥了职能作用。\n",
    "\n",
    "　　会议强调，今年是新中国成立70周年，是全面建成小康社会、实现第一个百年奋斗目标的关键之年。面对当前复杂严峻的国际形势和繁重艰巨的改革发展稳定任务，全国人大常委会、国务院、全国政协、最高人民法院、最高人民检察院党组要带头增强“四个意识”、坚定“四个自信”、做到“两个维护”，自觉在思想上政治上行动上同以习近平同志为核心的党中央保持高度一致。要始终坚持以习近平新时代中国特色社会主义思想为指导，深入领会党中央对重大形势的科学判断和对重大工作的决策部署，切实履职尽责，凝聚和激发各方面积极性、主动性、创造性，精准发力做好各项工作。要按照新时代党的建设总要求，认真履行全面从严治党主体责任，严肃党内政治生活，严格执行民主集中制，带头贯彻中央八项规定及其实施细则精神，坚决防止和克服一切形式主义、官僚主义，为全面建成小康社会收官打下决定性基础，以优异成绩迎接中华人民共和国成立70周年。\n",
    "\n",
    "　　会议强调，新的一年里，中央书记处要在加强和维护党中央权威和集中统一领导上作表率，勇于担当作为，提高议事能力，围绕中央政治局、中央政治局常委会工作安排抓好落实，完成好党中央交办的各项任务。\n",
    "'''"
   ]
  },
  {
   "cell_type": "code",
   "execution_count": 24,
   "metadata": {},
   "outputs": [],
   "source": [
    "import wordcloud as wc\n",
    "%matplotlib inline\n",
    "import matplotlib.pyplot as plt\n",
    "import numpy as np\n",
    "from PIL import Image"
   ]
  },
  {
   "cell_type": "code",
   "execution_count": 25,
   "metadata": {},
   "outputs": [],
   "source": [
    "#Mask=np.array(Image.open('/Users/liang/Documents/GitHub/word_cloud/examples/stormtrooper_mask.png'))\n",
    "Mask=np.array(Image.open('/Users/liang/Documents/GitHub/word_cloud/examples/alice_mask.png'))"
   ]
  },
  {
   "cell_type": "code",
   "execution_count": 26,
   "metadata": {},
   "outputs": [],
   "source": [
    "wc_with_mask=wc.WordCloud(font_path='/Users/liang/Library/Fonts/DejaVuSans.ttf',mask=Mask)"
   ]
  },
  {
   "cell_type": "code",
   "execution_count": 27,
   "metadata": {},
   "outputs": [],
   "source": [
    "def plot_wordcloud_by_word_important(important):\n",
    "    plt.imshow(wc_with_mask.generate_from_frequencies({w: fre for w, fre in important}))"
   ]
  },
  {
   "cell_type": "code",
   "execution_count": 28,
   "metadata": {},
   "outputs": [
    {
     "data": {
      "image/png": "[encoded data removed]",
      "text/plain": [
       "<Figure size 432x288 with 1 Axes>"
      ]
     },
     "metadata": {
      "needs_background": "light"
     },
     "output_type": "display_data"
    }
   ],
   "source": [
    "plot_wordcloud_by_word_important(word_import_with_TFIDF(News2))"
   ]
  },
  {
   "cell_type": "code",
   "execution_count": 29,
   "metadata": {},
   "outputs": [],
   "source": [
    "News2_important=word_import_with_TFIDF(News2)"
   ]
  },
  {
   "cell_type": "code",
   "execution_count": 30,
   "metadata": {},
   "outputs": [
    {
     "data": {
      "text/plain": [
       "<wordcloud.wordcloud.WordCloud at 0x15b483fd0>"
      ]
     },
     "execution_count": 30,
     "metadata": {},
     "output_type": "execute_result"
    }
   ],
   "source": [
    "wc_with_mask.generate_from_frequencies({w:fre for w,fre in News2_important}).to_file('mask.png')"
   ]
  },
  {
   "cell_type": "code",
   "execution_count": 31,
   "metadata": {},
   "outputs": [
    {
     "name": "stdout",
     "output_type": "stream",
     "text": [
      "N级台阶问题.ipynb      mask.png               wordcloudLiang.ipynb\n",
      "README.md              mask1.png              wordmap.png\n",
      "chinamap.png           no_mask.png\n"
     ]
    }
   ],
   "source": [
    "!ls"
   ]
  },
  {
   "cell_type": "code",
   "execution_count": 32,
   "metadata": {},
   "outputs": [],
   "source": [
    "!open mask.png"
   ]
  },
  {
   "cell_type": "code",
   "execution_count": 33,
   "metadata": {},
   "outputs": [],
   "source": [
    "Mask=np.array(Image.open('/Users/liang/Documents/GitHub/word_cloud/examples/stormtrooper_mask.png'))\n",
    "wc_with_mask=wc.WordCloud(font_path='/Users/liang/Library/Fonts/DejaVuSans.ttf',mask=Mask)"
   ]
  },
  {
   "cell_type": "code",
   "execution_count": 34,
   "metadata": {},
   "outputs": [
    {
     "data": {
      "text/plain": [
       "<wordcloud.wordcloud.WordCloud at 0x15b3fd710>"
      ]
     },
     "execution_count": 34,
     "metadata": {},
     "output_type": "execute_result"
    }
   ],
   "source": [
    "wc_with_mask.generate_from_frequencies({w:fre for w,fre in News2_important}).to_file('mask1.png')"
   ]
  },
  {
   "cell_type": "code",
   "execution_count": 35,
   "metadata": {},
   "outputs": [],
   "source": [
    "!open mask1.png"
   ]
  },
  {
   "cell_type": "code",
   "execution_count": 36,
   "metadata": {},
   "outputs": [],
   "source": [
    "WC=wc.WordCloud(font_path='/Users/liang/Library/Fonts/DejaVuSans.ttf',width=800, height=600,background_color='white')"
   ]
  },
  {
   "cell_type": "code",
   "execution_count": 37,
   "metadata": {},
   "outputs": [
    {
     "data": {
      "text/plain": [
       "<wordcloud.wordcloud.WordCloud at 0x12676ba90>"
      ]
     },
     "execution_count": 37,
     "metadata": {},
     "output_type": "execute_result"
    }
   ],
   "source": [
    "WC.generate_from_frequencies({w:fre for w,fre in News2_important}).to_file('no_mask.png')"
   ]
  },
  {
   "cell_type": "code",
   "execution_count": 38,
   "metadata": {},
   "outputs": [],
   "source": [
    "!open no_mask.png"
   ]
  },
  {
   "cell_type": "code",
   "execution_count": 93,
   "metadata": {},
   "outputs": [],
   "source": [
    "dollor='/Users/liang/Downloads/dollor.jpg'\n",
    "light='/Users/liang/Downloads/light.jpg'\n",
    "heart='/Users/liang/Downloads/heart.png'\n",
    "dimond='/Users/liang/Downloads/dimond.png'\n",
    "wordmap='/Users/liang/Downloads/wordmap.jpg'\n",
    "chinamap='/Users/liang/Downloads/chinamap.jpg'"
   ]
  },
  {
   "cell_type": "code",
   "execution_count": 94,
   "metadata": {},
   "outputs": [],
   "source": [
    "Mask1=np.array(Image.open(dollor))\n",
    "Mask2=np.array(Image.open(light))\n",
    "Mask3=np.array(Image.open(heart))\n",
    "Mask4=np.array(Image.open(dimond))\n",
    "Mask5=np.array(Image.open(wordmap))\n",
    "Mask6=np.array(Image.open(chinamap))"
   ]
  },
  {
   "cell_type": "code",
   "execution_count": 95,
   "metadata": {},
   "outputs": [],
   "source": [
    "wc_with_mask1=wc.WordCloud(font_path='/Users/liang/Library/Fonts/DejaVuSans.ttf',mask=Mask1, background_color='white')\n",
    "wc_with_mask2=wc.WordCloud(font_path='/Users/liang/Library/Fonts/DejaVuSans.ttf',mask=Mask2, background_color='white')\n",
    "wc_with_mask3=wc.WordCloud(font_path='/Users/liang/Library/Fonts/DejaVuSans.ttf',mask=Mask3, background_color='white')"
   ]
  },
  {
   "cell_type": "code",
   "execution_count": 96,
   "metadata": {},
   "outputs": [],
   "source": [
    "News2_important=word_import_with_TFIDF(News2)"
   ]
  },
  {
   "cell_type": "code",
   "execution_count": 97,
   "metadata": {},
   "outputs": [],
   "source": [
    "wc_with_mask4=wc.WordCloud(font_path='/Users/liang/Library/Fonts/DejaVuSans.ttf',mask=Mask4, background_color='white')"
   ]
  },
  {
   "cell_type": "code",
   "execution_count": 98,
   "metadata": {},
   "outputs": [],
   "source": [
    "wc_with_mask5=wc.WordCloud(font_path='/Users/liang/Library/Fonts/DejaVuSans.ttf',mask=Mask5, background_color='green')"
   ]
  },
  {
   "cell_type": "code",
   "execution_count": 99,
   "metadata": {},
   "outputs": [],
   "source": [
    "wc_with_mask6=wc.WordCloud(font_path='/Users/liang/Library/Fonts/DejaVuSans.ttf',mask=Mask6, background_color='white')"
   ]
  },
  {
   "cell_type": "code",
   "execution_count": 100,
   "metadata": {},
   "outputs": [
    {
     "data": {
      "text/plain": [
       "<wordcloud.wordcloud.WordCloud at 0x1263d8550>"
      ]
     },
     "execution_count": 100,
     "metadata": {},
     "output_type": "execute_result"
    }
   ],
   "source": [
    "wc_with_mask1.generate_from_frequencies({w:fre for w,fre in News2_important}).to_file('dollor.png')\n",
    "wc_with_mask2.generate_from_frequencies({w:fre for w,fre in News2_important}).to_file('light.png')\n",
    "wc_with_mask3.generate_from_frequencies({w:fre for w,fre in News2_important}).to_file('heart.png')"
   ]
  },
  {
   "cell_type": "code",
   "execution_count": 101,
   "metadata": {},
   "outputs": [
    {
     "data": {
      "text/plain": [
       "<wordcloud.wordcloud.WordCloud at 0x1263dd8d0>"
      ]
     },
     "execution_count": 101,
     "metadata": {},
     "output_type": "execute_result"
    }
   ],
   "source": [
    "wc_with_mask4.generate_from_frequencies({w:fre for w,fre in News2_important}).to_file('dimond.png')"
   ]
  },
  {
   "cell_type": "code",
   "execution_count": 102,
   "metadata": {},
   "outputs": [
    {
     "data": {
      "text/plain": [
       "<wordcloud.wordcloud.WordCloud at 0x1263dd6a0>"
      ]
     },
     "execution_count": 102,
     "metadata": {},
     "output_type": "execute_result"
    }
   ],
   "source": [
    "wc_with_mask5.generate_from_frequencies({w:fre for w,fre in News2_important}).to_file('wordmap.png')"
   ]
  },
  {
   "cell_type": "code",
   "execution_count": 103,
   "metadata": {},
   "outputs": [
    {
     "data": {
      "text/plain": [
       "<wordcloud.wordcloud.WordCloud at 0x1263dd6d8>"
      ]
     },
     "execution_count": 103,
     "metadata": {},
     "output_type": "execute_result"
    }
   ],
   "source": [
    "wc_with_mask6.generate_from_frequencies({w:fre for w,fre in News2_important}).to_file('chinamap.png')"
   ]
  },
  {
   "cell_type": "code",
   "execution_count": 104,
   "metadata": {},
   "outputs": [
    {
     "name": "stdout",
     "output_type": "stream",
     "text": [
      "chinamap.png dollor.png   light.png    mask1.png    wordmap.png\n",
      "dimond.png   heart.png    mask.png     no_mask.png\n"
     ]
    }
   ],
   "source": [
    "!ls *png"
   ]
  },
  {
   "cell_type": "code",
   "execution_count": 108,
   "metadata": {},
   "outputs": [],
   "source": [
    "!open *.png"
   ]
  },
  {
   "cell_type": "code",
   "execution_count": null,
   "metadata": {},
   "outputs": [],
   "source": []
  }
 ],
 "metadata": {
  "kernelspec": {
   "display_name": "Python 3",
   "language": "python",
   "name": "python3"
  },
  "language_info": {
   "codemirror_mode": {
    "name": "ipython",
    "version": 3
   },
   "file_extension": ".py",
   "mimetype": "text/x-python",
   "name": "python",
   "nbconvert_exporter": "python",
   "pygments_lexer": "ipython3",
   "version": "3.7.1"
  }
 },
 "nbformat": 4,
 "nbformat_minor": 2
}
